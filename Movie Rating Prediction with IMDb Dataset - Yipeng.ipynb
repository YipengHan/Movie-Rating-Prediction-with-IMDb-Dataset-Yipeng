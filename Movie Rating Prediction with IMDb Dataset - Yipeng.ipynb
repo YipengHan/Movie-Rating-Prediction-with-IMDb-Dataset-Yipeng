{
 "cells": [
  {
   "cell_type": "markdown",
   "metadata": {},
   "source": [
    "# Movie Rating Prediction with IMDb Dataset\n",
    "Yipeng Han"
   ]
  },
  {
   "cell_type": "markdown",
   "metadata": {},
   "source": [
    "## 1. Importing Libraries and Loading Data"
   ]
  },
  {
   "cell_type": "code",
   "execution_count": 1,
   "metadata": {
    "ExecuteTime": {
     "end_time": "2019-07-11T04:57:07.271782Z",
     "start_time": "2019-07-11T04:57:00.340484Z"
    }
   },
   "outputs": [
    {
     "name": "stderr",
     "output_type": "stream",
     "text": [
      "Using TensorFlow backend.\n"
     ]
    }
   ],
   "source": [
    "import gc\n",
    "gc.enable()\n",
    "from collections import Counter\n",
    "import os\n",
    "os.chdir('D://Interview Question//Interview Question//audible')\n",
    "import pandas as pd\n",
    "import numpy as np\n",
    "import dask.dataframe as dd\n",
    "import seaborn as sns\n",
    "sns.set_style(\"whitegrid\")\n",
    "sns.set_context('paper')\n",
    "import matplotlib.pyplot as plt\n",
    "import warnings\n",
    "warnings.filterwarnings(\"ignore\")\n",
    "\n",
    "from sklearn.model_selection import train_test_split, cross_val_score, GridSearchCV, KFold\n",
    "from sklearn.preprocessing import StandardScaler,MinMaxScaler\n",
    "from sklearn.ensemble import RandomForestClassifier\n",
    "from sklearn.decomposition import TruncatedSVD\n",
    "from sklearn.linear_model import ElasticNet\n",
    "from sklearn.ensemble import RandomForestRegressor\n",
    "from sklearn.metrics import mean_squared_error, r2_score\n",
    "\n",
    "import keras.backend as K\n",
    "from keras.models import Sequential\n",
    "from keras.layers import Dense, Dropout\n",
    "from keras.callbacks import EarlyStopping, ReduceLROnPlateau, ModelCheckpoint\n",
    "from keras.initializers import RandomNormal\n",
    "from keras.optimizers import adam, Adadelta\n",
    "from keras import regularizers\n",
    "from keras.layers.normalization import BatchNormalization"
   ]
  },
  {
   "cell_type": "code",
   "execution_count": 13,
   "metadata": {
    "ExecuteTime": {
     "end_time": "2019-07-11T05:12:52.139017Z",
     "start_time": "2019-07-11T05:11:45.260548Z"
    }
   },
   "outputs": [],
   "source": [
    "akas = dd.from_pandas(pd.read_csv('title.akas.tsv//data.tsv', sep='\\t'),\n",
    "                      npartitions=3)\n",
    "crew = dd.read_csv('title.crew.tsv//data.tsv', sep='\\t')\n",
    "# No need to load this data becuase it relates to tv series only\n",
    "#episode = dd.read_csv('title.episode.tsv//data.tsv',sep='\\t')\n",
    "name = dd.read_csv('name.basics.tsv//data.tsv', sep='\\t')\n",
    "title = dd.from_pandas(pd.read_csv('title.basics.tsv//data.tsv', sep='\\t'),\n",
    "                       npartitions=3)\n",
    "principal = dd.read_csv('title.principals.tsv//data.tsv', sep='\\t')\n",
    "rating = dd.read_csv('title.ratings.tsv//data.tsv', sep='\\t')\n",
    "\n",
    "# Select only movies\n",
    "title = title[title['titleType'] == 'movie']\n",
    "title = title[title['startYear'] != '\\\\N']\n",
    "title['startYear'] = title['startYear'].astype(np.int64)\n",
    "\n",
    "\n",
    "df = title.merge(akas, how='left', left_on='tconst', right_on='titleId')\n",
    "df = df.merge(rating, how='inner', left_on='tconst', right_on='tconst')"
   ]
  },
  {
   "cell_type": "code",
   "execution_count": 3,
   "metadata": {
    "ExecuteTime": {
     "end_time": "2019-07-11T04:58:00.513414Z",
     "start_time": "2019-07-11T04:57:45.153430Z"
    }
   },
   "outputs": [
    {
     "name": "stdout",
     "output_type": "stream",
     "text": [
      "<class 'pandas.core.frame.DataFrame'>\n",
      "Int64Index: 1171707 entries, 0 to 390428\n",
      "Data columns (total 19 columns):\n",
      "tconst             1171707 non-null object\n",
      "titleType          1171707 non-null object\n",
      "primaryTitle       1171707 non-null object\n",
      "originalTitle      1171707 non-null object\n",
      "isAdult            1171707 non-null int64\n",
      "startYear          1171707 non-null int64\n",
      "endYear            1171707 non-null object\n",
      "runtimeMinutes     1171707 non-null object\n",
      "genres             1171707 non-null object\n",
      "titleId            1157613 non-null object\n",
      "ordering           1157613 non-null float64\n",
      "title              1157613 non-null object\n",
      "region             1157609 non-null object\n",
      "language           1157613 non-null object\n",
      "types              1157613 non-null object\n",
      "attributes         1157613 non-null object\n",
      "isOriginalTitle    1157613 non-null object\n",
      "averageRating      1171707 non-null float64\n",
      "numVotes           1171707 non-null int64\n",
      "dtypes: float64(2), int64(3), object(14)\n",
      "memory usage: 178.8+ MB\n"
     ]
    }
   ],
   "source": [
    "df.compute().info()"
   ]
  },
  {
   "cell_type": "code",
   "execution_count": 4,
   "metadata": {
    "ExecuteTime": {
     "end_time": "2019-07-11T04:58:14.860074Z",
     "start_time": "2019-07-11T04:58:00.583197Z"
    }
   },
   "outputs": [
    {
     "data": {
      "text/html": [
       "<div>\n",
       "<style scoped>\n",
       "    .dataframe tbody tr th:only-of-type {\n",
       "        vertical-align: middle;\n",
       "    }\n",
       "\n",
       "    .dataframe tbody tr th {\n",
       "        vertical-align: top;\n",
       "    }\n",
       "\n",
       "    .dataframe thead th {\n",
       "        text-align: right;\n",
       "    }\n",
       "</style>\n",
       "<table border=\"1\" class=\"dataframe\">\n",
       "  <thead>\n",
       "    <tr style=\"text-align: right;\">\n",
       "      <th></th>\n",
       "      <th>tconst</th>\n",
       "      <th>titleType</th>\n",
       "      <th>primaryTitle</th>\n",
       "      <th>originalTitle</th>\n",
       "      <th>isAdult</th>\n",
       "      <th>startYear</th>\n",
       "      <th>endYear</th>\n",
       "      <th>runtimeMinutes</th>\n",
       "      <th>genres</th>\n",
       "      <th>titleId</th>\n",
       "      <th>ordering</th>\n",
       "      <th>title</th>\n",
       "      <th>region</th>\n",
       "      <th>language</th>\n",
       "      <th>types</th>\n",
       "      <th>attributes</th>\n",
       "      <th>isOriginalTitle</th>\n",
       "      <th>averageRating</th>\n",
       "      <th>numVotes</th>\n",
       "    </tr>\n",
       "  </thead>\n",
       "  <tbody>\n",
       "    <tr>\n",
       "      <th>0</th>\n",
       "      <td>tt5627502</td>\n",
       "      <td>movie</td>\n",
       "      <td>The Harvesters</td>\n",
       "      <td>The Harvesters</td>\n",
       "      <td>0</td>\n",
       "      <td>2017</td>\n",
       "      <td>\\N</td>\n",
       "      <td>91</td>\n",
       "      <td>Horror</td>\n",
       "      <td>tt5627502</td>\n",
       "      <td>1.0</td>\n",
       "      <td>The Harvesters</td>\n",
       "      <td>US</td>\n",
       "      <td>\\N</td>\n",
       "      <td>\\N</td>\n",
       "      <td>\\N</td>\n",
       "      <td>0</td>\n",
       "      <td>4.1</td>\n",
       "      <td>27</td>\n",
       "    </tr>\n",
       "    <tr>\n",
       "      <th>1</th>\n",
       "      <td>tt5628012</td>\n",
       "      <td>movie</td>\n",
       "      <td>The Bacchus Lady</td>\n",
       "      <td>Jug-yeo-ju-neun Yeo-ja</td>\n",
       "      <td>0</td>\n",
       "      <td>2016</td>\n",
       "      <td>\\N</td>\n",
       "      <td>110</td>\n",
       "      <td>Drama</td>\n",
       "      <td>tt5628012</td>\n",
       "      <td>1.0</td>\n",
       "      <td>Jug-yeo-ju-neun Yeo-ja</td>\n",
       "      <td>KR</td>\n",
       "      <td>\\N</td>\n",
       "      <td>\\N</td>\n",
       "      <td>\\N</td>\n",
       "      <td>0</td>\n",
       "      <td>7.2</td>\n",
       "      <td>296</td>\n",
       "    </tr>\n",
       "    <tr>\n",
       "      <th>2</th>\n",
       "      <td>tt5628012</td>\n",
       "      <td>movie</td>\n",
       "      <td>The Bacchus Lady</td>\n",
       "      <td>Jug-yeo-ju-neun Yeo-ja</td>\n",
       "      <td>0</td>\n",
       "      <td>2016</td>\n",
       "      <td>\\N</td>\n",
       "      <td>110</td>\n",
       "      <td>Drama</td>\n",
       "      <td>tt5628012</td>\n",
       "      <td>2.0</td>\n",
       "      <td>Jug-yeo-ju-neun Yeo-ja</td>\n",
       "      <td>\\N</td>\n",
       "      <td>\\N</td>\n",
       "      <td>original</td>\n",
       "      <td>\\N</td>\n",
       "      <td>1</td>\n",
       "      <td>7.2</td>\n",
       "      <td>296</td>\n",
       "    </tr>\n",
       "    <tr>\n",
       "      <th>3</th>\n",
       "      <td>tt5628012</td>\n",
       "      <td>movie</td>\n",
       "      <td>The Bacchus Lady</td>\n",
       "      <td>Jug-yeo-ju-neun Yeo-ja</td>\n",
       "      <td>0</td>\n",
       "      <td>2016</td>\n",
       "      <td>\\N</td>\n",
       "      <td>110</td>\n",
       "      <td>Drama</td>\n",
       "      <td>tt5628012</td>\n",
       "      <td>3.0</td>\n",
       "      <td>The Bacchus Lady</td>\n",
       "      <td>XWW</td>\n",
       "      <td>en</td>\n",
       "      <td>imdbDisplay</td>\n",
       "      <td>\\N</td>\n",
       "      <td>0</td>\n",
       "      <td>7.2</td>\n",
       "      <td>296</td>\n",
       "    </tr>\n",
       "    <tr>\n",
       "      <th>4</th>\n",
       "      <td>tt5628012</td>\n",
       "      <td>movie</td>\n",
       "      <td>The Bacchus Lady</td>\n",
       "      <td>Jug-yeo-ju-neun Yeo-ja</td>\n",
       "      <td>0</td>\n",
       "      <td>2016</td>\n",
       "      <td>\\N</td>\n",
       "      <td>110</td>\n",
       "      <td>Drama</td>\n",
       "      <td>tt5628012</td>\n",
       "      <td>4.0</td>\n",
       "      <td>A Dama de Baco</td>\n",
       "      <td>BR</td>\n",
       "      <td>\\N</td>\n",
       "      <td>imdbDisplay</td>\n",
       "      <td>\\N</td>\n",
       "      <td>0</td>\n",
       "      <td>7.2</td>\n",
       "      <td>296</td>\n",
       "    </tr>\n",
       "    <tr>\n",
       "      <th>5</th>\n",
       "      <td>tt5628012</td>\n",
       "      <td>movie</td>\n",
       "      <td>The Bacchus Lady</td>\n",
       "      <td>Jug-yeo-ju-neun Yeo-ja</td>\n",
       "      <td>0</td>\n",
       "      <td>2016</td>\n",
       "      <td>\\N</td>\n",
       "      <td>110</td>\n",
       "      <td>Drama</td>\n",
       "      <td>tt5628012</td>\n",
       "      <td>5.0</td>\n",
       "      <td>The Bacchus Lady</td>\n",
       "      <td>FR</td>\n",
       "      <td>\\N</td>\n",
       "      <td>imdbDisplay</td>\n",
       "      <td>\\N</td>\n",
       "      <td>0</td>\n",
       "      <td>7.2</td>\n",
       "      <td>296</td>\n",
       "    </tr>\n",
       "    <tr>\n",
       "      <th>6</th>\n",
       "      <td>tt5628688</td>\n",
       "      <td>movie</td>\n",
       "      <td>Par instinct</td>\n",
       "      <td>Par instinct</td>\n",
       "      <td>0</td>\n",
       "      <td>2017</td>\n",
       "      <td>\\N</td>\n",
       "      <td>83</td>\n",
       "      <td>Adventure,Drama</td>\n",
       "      <td>tt5628688</td>\n",
       "      <td>1.0</td>\n",
       "      <td>Par instinct</td>\n",
       "      <td>FR</td>\n",
       "      <td>\\N</td>\n",
       "      <td>\\N</td>\n",
       "      <td>\\N</td>\n",
       "      <td>0</td>\n",
       "      <td>5.1</td>\n",
       "      <td>78</td>\n",
       "    </tr>\n",
       "    <tr>\n",
       "      <th>7</th>\n",
       "      <td>tt5628688</td>\n",
       "      <td>movie</td>\n",
       "      <td>Par instinct</td>\n",
       "      <td>Par instinct</td>\n",
       "      <td>0</td>\n",
       "      <td>2017</td>\n",
       "      <td>\\N</td>\n",
       "      <td>83</td>\n",
       "      <td>Adventure,Drama</td>\n",
       "      <td>tt5628688</td>\n",
       "      <td>2.0</td>\n",
       "      <td>Par instinct</td>\n",
       "      <td>\\N</td>\n",
       "      <td>\\N</td>\n",
       "      <td>original</td>\n",
       "      <td>\\N</td>\n",
       "      <td>1</td>\n",
       "      <td>5.1</td>\n",
       "      <td>78</td>\n",
       "    </tr>\n",
       "    <tr>\n",
       "      <th>8</th>\n",
       "      <td>tt5628688</td>\n",
       "      <td>movie</td>\n",
       "      <td>Par instinct</td>\n",
       "      <td>Par instinct</td>\n",
       "      <td>0</td>\n",
       "      <td>2017</td>\n",
       "      <td>\\N</td>\n",
       "      <td>83</td>\n",
       "      <td>Adventure,Drama</td>\n",
       "      <td>tt5628688</td>\n",
       "      <td>3.0</td>\n",
       "      <td>Love is what we need</td>\n",
       "      <td>\\N</td>\n",
       "      <td>\\N</td>\n",
       "      <td>\\N</td>\n",
       "      <td>\\N</td>\n",
       "      <td>0</td>\n",
       "      <td>5.1</td>\n",
       "      <td>78</td>\n",
       "    </tr>\n",
       "    <tr>\n",
       "      <th>9</th>\n",
       "      <td>tt5628792</td>\n",
       "      <td>movie</td>\n",
       "      <td>I Got Life!</td>\n",
       "      <td>Aurore</td>\n",
       "      <td>0</td>\n",
       "      <td>2017</td>\n",
       "      <td>\\N</td>\n",
       "      <td>89</td>\n",
       "      <td>Comedy,Drama</td>\n",
       "      <td>tt5628792</td>\n",
       "      <td>10.0</td>\n",
       "      <td>Pomlad pri petdesetih</td>\n",
       "      <td>SI</td>\n",
       "      <td>\\N</td>\n",
       "      <td>imdbDisplay</td>\n",
       "      <td>\\N</td>\n",
       "      <td>0</td>\n",
       "      <td>6.3</td>\n",
       "      <td>832</td>\n",
       "    </tr>\n",
       "  </tbody>\n",
       "</table>\n",
       "</div>"
      ],
      "text/plain": [
       "      tconst titleType      primaryTitle           originalTitle  isAdult  \\\n",
       "0  tt5627502     movie    The Harvesters          The Harvesters        0   \n",
       "1  tt5628012     movie  The Bacchus Lady  Jug-yeo-ju-neun Yeo-ja        0   \n",
       "2  tt5628012     movie  The Bacchus Lady  Jug-yeo-ju-neun Yeo-ja        0   \n",
       "3  tt5628012     movie  The Bacchus Lady  Jug-yeo-ju-neun Yeo-ja        0   \n",
       "4  tt5628012     movie  The Bacchus Lady  Jug-yeo-ju-neun Yeo-ja        0   \n",
       "5  tt5628012     movie  The Bacchus Lady  Jug-yeo-ju-neun Yeo-ja        0   \n",
       "6  tt5628688     movie      Par instinct            Par instinct        0   \n",
       "7  tt5628688     movie      Par instinct            Par instinct        0   \n",
       "8  tt5628688     movie      Par instinct            Par instinct        0   \n",
       "9  tt5628792     movie       I Got Life!                  Aurore        0   \n",
       "\n",
       "   startYear endYear runtimeMinutes           genres    titleId  ordering  \\\n",
       "0       2017      \\N             91           Horror  tt5627502       1.0   \n",
       "1       2016      \\N            110            Drama  tt5628012       1.0   \n",
       "2       2016      \\N            110            Drama  tt5628012       2.0   \n",
       "3       2016      \\N            110            Drama  tt5628012       3.0   \n",
       "4       2016      \\N            110            Drama  tt5628012       4.0   \n",
       "5       2016      \\N            110            Drama  tt5628012       5.0   \n",
       "6       2017      \\N             83  Adventure,Drama  tt5628688       1.0   \n",
       "7       2017      \\N             83  Adventure,Drama  tt5628688       2.0   \n",
       "8       2017      \\N             83  Adventure,Drama  tt5628688       3.0   \n",
       "9       2017      \\N             89     Comedy,Drama  tt5628792      10.0   \n",
       "\n",
       "                    title region language        types attributes  \\\n",
       "0          The Harvesters     US       \\N           \\N         \\N   \n",
       "1  Jug-yeo-ju-neun Yeo-ja     KR       \\N           \\N         \\N   \n",
       "2  Jug-yeo-ju-neun Yeo-ja     \\N       \\N     original         \\N   \n",
       "3        The Bacchus Lady    XWW       en  imdbDisplay         \\N   \n",
       "4          A Dama de Baco     BR       \\N  imdbDisplay         \\N   \n",
       "5        The Bacchus Lady     FR       \\N  imdbDisplay         \\N   \n",
       "6            Par instinct     FR       \\N           \\N         \\N   \n",
       "7            Par instinct     \\N       \\N     original         \\N   \n",
       "8    Love is what we need     \\N       \\N           \\N         \\N   \n",
       "9   Pomlad pri petdesetih     SI       \\N  imdbDisplay         \\N   \n",
       "\n",
       "  isOriginalTitle  averageRating  numVotes  \n",
       "0               0            4.1        27  \n",
       "1               0            7.2       296  \n",
       "2               1            7.2       296  \n",
       "3               0            7.2       296  \n",
       "4               0            7.2       296  \n",
       "5               0            7.2       296  \n",
       "6               0            5.1        78  \n",
       "7               1            5.1        78  \n",
       "8               0            5.1        78  \n",
       "9               0            6.3       832  "
      ]
     },
     "execution_count": 4,
     "metadata": {},
     "output_type": "execute_result"
    }
   ],
   "source": [
    "# this is basic table contains all movie related info\n",
    "df.compute().head(10)"
   ]
  },
  {
   "cell_type": "markdown",
   "metadata": {},
   "source": [
    "## Exploratory Data Analysis and Assumption"
   ]
  },
  {
   "cell_type": "markdown",
   "metadata": {},
   "source": [
    "### Assumption 1: Is movie rating related with number of votes?\n",
    "- To answer this question through graph, I use quartile of numVote to cut it into 4 groups. Within each group, we could calculate a average rating for all movies in inside this group. From the plot, it cannot prove the first assumption."
   ]
  },
  {
   "cell_type": "code",
   "execution_count": 4,
   "metadata": {
    "ExecuteTime": {
     "end_time": "2019-07-11T02:31:32.642782Z",
     "start_time": "2019-07-11T02:31:31.491798Z"
    }
   },
   "outputs": [
    {
     "data": {
      "image/png": "[encoded data removed]",
      "text/plain": [
       "<Figure size 432x288 with 1 Axes>"
      ]
     },
     "metadata": {
      "needs_background": "light"
     },
     "output_type": "display_data"
    }
   ],
   "source": [
    "qcut_rating = rating.copy().compute()\n",
    "qcut_rating['cut'] = pd.qcut(qcut_rating ['numVotes'],q = [0, .25, .5, .75, 1.],labels = [\"Q1\",'Q2','Q3','Q4'])\n",
    "d = {'mean':'Average'}\n",
    "qcut_rating = qcut_rating.groupby('cut')['averageRating'].agg(['mean']).rename(columns=d)\n",
    "g = sns.barplot(x = qcut_rating.index, y = 'Average',data = qcut_rating).set_title('Number of Votes vs Average Rating')\n",
    "plt.xlabel('Quartile from numVotes')\n",
    "plt.ylabel('Rating')\n",
    "plt.tight_layout()\n",
    "plt.show(g)"
   ]
  },
  {
   "attachments": {},
   "cell_type": "markdown",
   "metadata": {},
   "source": [
    "### Assumption 2: Is movie rating related with movie genre?\n",
    "- For this assumption, group all movies based on “genre” and calculate mean of “averageRating” for each group. Note that a movie might has more than one genre, e.g. drama and adventure. In this case, we will double count it. \n",
    "\n",
    "- Based on this plot, there are some genres that have high score than others, which mean that genre definitely affect the movie rating."
   ]
  },
  {
   "cell_type": "code",
   "execution_count": 5,
   "metadata": {
    "ExecuteTime": {
     "end_time": "2019-07-11T02:32:29.241556Z",
     "start_time": "2019-07-11T02:31:39.190890Z"
    }
   },
   "outputs": [
    {
     "data": {
      "image/png": "[encoded data removed]",
      "text/plain": [
       "<Figure size 432x288 with 1 Axes>"
      ]
     },
     "metadata": {
      "needs_background": "light"
     },
     "output_type": "display_data"
    }
   ],
   "source": [
    "average_rating = df[['genres','averageRating']].dropna(subset=['genres']).reset_index(drop=True).compute()\n",
    "splitted = average_rating['genres'].str.split(',').reset_index()\n",
    "l = splitted['genres'].str.len()\n",
    "average_rating = pd.DataFrame(data={'average_rating': np.repeat(average_rating['averageRating'], l),\n",
    "                                   'genres':np.concatenate(splitted['genres'])}) \n",
    "d = {'mean':'Average'}\n",
    "average = average_rating.groupby('genres')['average_rating'].agg(['mean']).rename(columns=d).sort_values(by = 'Average',ascending=False)\n",
    "sns.barplot(x = average.index, y = 'Average',data = average,capsize=.2)\n",
    "plt.xticks(rotation=90)\n",
    "plt.title('Movie Average Rating for Each Genre')\n",
    "plt.ylabel('Average Rating')\n",
    "plt.show()"
   ]
  },
  {
   "cell_type": "markdown",
   "metadata": {},
   "source": [
    "The following plot shows the rating speard for each genre. Generally, most genres' rating are well spreaded."
   ]
  },
  {
   "cell_type": "code",
   "execution_count": 6,
   "metadata": {
    "ExecuteTime": {
     "end_time": "2019-07-11T02:32:54.406682Z",
     "start_time": "2019-07-11T02:32:53.704751Z"
    }
   },
   "outputs": [
    {
     "data": {
      "image/png": "[encoded data removed]",
      "text/plain": [
       "<Figure size 432x288 with 1 Axes>"
      ]
     },
     "metadata": {
      "needs_background": "light"
     },
     "output_type": "display_data"
    }
   ],
   "source": [
    "sns.boxplot(x = 'genres',y='average_rating',data = average_rating)\n",
    "plt.xticks(rotation=90)\n",
    "plt.title('Boxplot for each genre\\'s rating')\n",
    "plt.ylabel('Rating')\n",
    "plt.show()"
   ]
  },
  {
   "cell_type": "markdown",
   "metadata": {},
   "source": [
    "### Assumption 3: Is movie rating related with movie startYear?\n",
    "\n",
    "- For this assumption, I find all movie ratings given their startYear. For visualization purpose, I choose all movies with start Year after 1960.\n",
    "\n",
    "- The color of the bar shows the mean rating for that year comparing to others. The darker, the higher rating. It shows a interesting trend from high to low, and to high again. This trend supports the deletion of all movies without startYear.\n",
    "\n"
   ]
  },
  {
   "cell_type": "code",
   "execution_count": 11,
   "metadata": {
    "ExecuteTime": {
     "end_time": "2019-07-11T02:40:11.692800Z",
     "start_time": "2019-07-11T02:39:57.038447Z"
    }
   },
   "outputs": [
    {
     "data": {
      "image/png": "[encoded data removed]",
      "text/plain": [
       "<Figure size 432x288 with 1 Axes>"
      ]
     },
     "metadata": {
      "needs_background": "light"
     },
     "output_type": "display_data"
    }
   ],
   "source": [
    "year = df[['startYear','averageRating']].dropna(subset=['startYear']).reset_index(drop=True).compute()\n",
    "# for visualization purpose, take all movie with startYear after 1960\n",
    "year = year[year['startYear']>=1960]\n",
    "d = {'mean':'Average'}\n",
    "year_average = year.groupby('startYear')['averageRating'].agg(['mean']).rename(columns=d)\n",
    "rank = year_average[\"Average\"].argsort().argsort() \n",
    "pal = sns.color_palette(\"Blues\", len(year_average))\n",
    "sns.barplot(x = year_average.index, y = 'Average',data = year_average, palette=np.array(pal[::])[rank])\n",
    "plt.xticks(rotation=90)\n",
    "plt.title('Movie starting Year vs Average Rating')\n",
    "plt.ylabel('Average Rating')\n",
    "plt.show()"
   ]
  },
  {
   "cell_type": "markdown",
   "metadata": {},
   "source": [
    "Column 'ordering' is a really special feature here, because it links 'same' movies with different region/ language together. So it controls movie version count. In order to reduce dimension of dataset, I choose only original movies. But this version count is saved as one feature."
   ]
  },
  {
   "cell_type": "code",
   "execution_count": 5,
   "metadata": {
    "ExecuteTime": {
     "end_time": "2019-07-11T05:05:45.464121Z",
     "start_time": "2019-07-11T04:58:25.529839Z"
    }
   },
   "outputs": [],
   "source": [
    "# columns 'ordering'\n",
    "number_different_version = df.compute().groupby('titleId').agg('max')['ordering']\n",
    "# pick all movies with ordering 1\n",
    "df = df[df['ordering'] == 1]"
   ]
  },
  {
   "cell_type": "markdown",
   "metadata": {},
   "source": [
    "For the following plot, I want to see the distribution of ordering. If there exists a high ordering except 1, I should not extract only movie with ordering 1"
   ]
  },
  {
   "cell_type": "code",
   "execution_count": 6,
   "metadata": {
    "ExecuteTime": {
     "end_time": "2019-07-11T05:06:37.410971Z",
     "start_time": "2019-07-11T05:06:37.172559Z"
    }
   },
   "outputs": [
    {
     "data": {
      "image/png": "[encoded data removed]",
      "text/plain": [
       "<Figure size 432x288 with 1 Axes>"
      ]
     },
     "metadata": {
      "needs_background": "light"
     },
     "output_type": "display_data"
    }
   ],
   "source": [
    "sns.distplot(number_different_version)\n",
    "plt.title('Distribution Plot for movie ordering')\n",
    "plt.show()"
   ]
  },
  {
   "cell_type": "markdown",
   "metadata": {},
   "source": [
    "Because of the limited memory, I could not merge the cast info (Pincipal) with df. I comment code for merging them."
   ]
  },
  {
   "cell_type": "code",
   "execution_count": 15,
   "metadata": {
    "ExecuteTime": {
     "end_time": "2019-07-11T05:13:59.273405Z",
     "start_time": "2019-07-11T05:13:21.066609Z"
    },
    "code_folding": []
   },
   "outputs": [],
   "source": [
    "# merge crew data\n",
    "df = df.merge(crew, how='left', left_on='tconst', right_on='tconst')\n",
    "# select major director and writer\n",
    "df['directors'] = df['directors'].str.split(',')\n",
    "df['directors'] = df['directors'].apply(lambda x: x[0])\n",
    "df['writers'] = df['writers'].str.split(',')\n",
    "df['writers'] = df['writers'].apply(lambda x: x[0])\n",
    "\n",
    "# add prefix to seperate director and writer\n",
    "df = df.merge(name.compute().add_prefix('director_').fillna('N/A'),\n",
    "              how='left',\n",
    "              left_on='directors',\n",
    "              right_on='director_nconst')\n",
    "df = df.merge(name.compute().add_prefix('writer_').fillna('N/A'),\n",
    "              how='left',\n",
    "              left_on='directors',\n",
    "              right_on='writer_nconst')\n",
    "#gc.collect()\n",
    "# Add Pincipal cast data\n",
    "#principal = principal.merge(name, how='left', on='nconst')\n",
    "#actor = principal[principal['category'] == 'actor'].compute().add_prefix(\n",
    "#    'actor_')\n",
    "#gc.collect()\n",
    "#actress = principal[principal['category'] == 'actress'].compute().add_prefix(\n",
    "#    'actress_')\n",
    "#gc.collect()\n",
    "#df = df.merge(actor, how='left', left_on='tconst', right_on='actor_tconst')\n",
    "#df = df.merge(actress, how='left', left_on='tconst', right_on='actress_tconst')"
   ]
  },
  {
   "cell_type": "code",
   "execution_count": 16,
   "metadata": {
    "ExecuteTime": {
     "end_time": "2019-07-11T05:17:15.142791Z",
     "start_time": "2019-07-11T05:14:02.090107Z"
    }
   },
   "outputs": [],
   "source": [
    "# create temp table contains only movies and ratings\n",
    "rating_for_titles = rating[['tconst', 'averageRating']].compute()\n",
    "rating_for_titles.set_index('tconst', inplace=True)\n",
    "\n",
    "df = df.compute()\n",
    "def average_relating_func(x,string = 'director'):\n",
    "    '''Returning mean rating for this individual\\'s relating work'''\n",
    "    temp=0\n",
    "    count=0\n",
    "    for i in x[string+'_knownForTitles']:\n",
    "        if i in rating_for_titles.index:\n",
    "            temp+=rating_for_titles.loc[i]['averageRating']\n",
    "            count+=1\n",
    "    if count == 0:\n",
    "        return 0\n",
    "    else:\n",
    "        return temp/count\n",
    "    \n",
    "df['director_knownForTitles'] = df['director_knownForTitles'].str.split(',')\n",
    "df['director_score'] = 0\n",
    "df['director_knownForTitles'] = df['director_knownForTitles'].fillna('N/A')\n",
    "df['director_score'] = df.apply(lambda x: average_relating_func(x,string='director'),axis=1)\n",
    "\n",
    "df['writer_knownForTitles'] = df['writer_knownForTitles'].str.split(',')\n",
    "df['writer_score'] = 0\n",
    "df['writer_knownForTitles'] = df['writer_knownForTitles'].fillna('N/A')\n",
    "df['writer_score'] = df.apply(lambda x: average_relating_func(x,string = 'writer'),axis=1)"
   ]
  },
  {
   "cell_type": "markdown",
   "metadata": {},
   "source": [
    "With the code in comment, actor / actress average relating rate could be added."
   ]
  },
  {
   "cell_type": "code",
   "execution_count": null,
   "metadata": {},
   "outputs": [],
   "source": [
    "#df['actor_knownForTitles'] = df['actor_knownForTitles'].str.split(',')\n",
    "#df['actor_score'] = 0\n",
    "#df['actor_knownForTitles'] = df['actor_knownForTitles'].fillna('N/A')\n",
    "#df['actor_score'] = df.apply(lambda x: average_relating_func(x,string='actor'),axis=1)\n",
    "\n",
    "#df['actress_knownForTitles'] = df['actress_knownForTitles'].str.split(',')\n",
    "#df['actress_score'] = 0\n",
    "#df['actress_knownForTitles'] = df['actress_knownForTitles'].fillna('N/A')\n",
    "#df['actress_score'] = df.apply(lambda x: average_relating_func(x,string='director'),axis=1)"
   ]
  },
  {
   "cell_type": "markdown",
   "metadata": {},
   "source": [
    "The plot below shows the distribution for director's relating titles' mean rating. From this plot, we could tell that most directors have a mean of 6 ~ 8 and there are some directors who don't have other movies so that they get average rating of 0"
   ]
  },
  {
   "cell_type": "code",
   "execution_count": 18,
   "metadata": {
    "ExecuteTime": {
     "end_time": "2019-07-11T05:17:36.748065Z",
     "start_time": "2019-07-11T05:17:36.466673Z"
    }
   },
   "outputs": [
    {
     "data": {
      "image/png": "[encoded data removed]",
      "text/plain": [
       "<Figure size 432x288 with 1 Axes>"
      ]
     },
     "metadata": {
      "needs_background": "light"
     },
     "output_type": "display_data"
    }
   ],
   "source": [
    "sns.distplot(df['director_score'])\n",
    "plt.title('Distribution Plot for Director\\'s Relating titles\\' Rating')\n",
    "plt.show()"
   ]
  },
  {
   "cell_type": "code",
   "execution_count": 19,
   "metadata": {
    "ExecuteTime": {
     "end_time": "2019-07-11T05:18:08.181835Z",
     "start_time": "2019-07-11T05:17:48.432036Z"
    }
   },
   "outputs": [],
   "source": [
    "# Column 'isOriginalTitle' has only 1 null, so just fill 0\n",
    "df['isOriginalTitle'] = df['isOriginalTitle'].apply(lambda x: int(x)\n",
    "                                                    if x != '\\\\N' else np.nan)\n",
    "df['isOriginalTitle'] = df['isOriginalTitle'].fillna(0)\n",
    "\n",
    "# Column 'runtimeMinutes' is numeric data, fillna with column mean\n",
    "df['runtimeMinutes'] = df['runtimeMinutes'].apply(lambda x: int(x)\n",
    "                                                  if x != '\\\\N' else np.nan)\n",
    "df['runtimeMinutes'] = df['runtimeMinutes'].fillna(df['runtimeMinutes'].mean())\n",
    "\n",
    "# Columns 'genres' transform into dummies\n",
    "genres_feature = df['genres'].str.get_dummies(',').reset_index(drop=True)\n",
    "\n",
    "# Columns 'region' transform into categorical with top 30 region selected\n",
    "df['region'] = df['region'].apply(lambda x: x\n",
    "                                  if x != '\\\\N' else 'Other Regions')\n",
    "df['region'] = df['region'].apply(lambda x: 'region_' + str(x))\n",
    "count = Counter()\n",
    "for coord in df['region']:\n",
    "    count[coord] += 1\n",
    "region_feature_list = [i for i, num in count.most_common(30)]\n",
    "df['region'] = df['region'].apply(lambda x: x\n",
    "                                  if x in region_feature_list else 'Region_nan')\n",
    "region_feature = df['region'].str.get_dummies().reset_index(drop=True)\n",
    "\n",
    "# Column 'Type' transform into dummies\n",
    "df['types'] = df['types'].apply(lambda x: x if x != '\\\\N' else 'Other Types')\n",
    "types_feature = df['types'].str.get_dummies().reset_index(drop=True)\n",
    "\n",
    "def year_check(string):\n",
    "    '''\n",
    "    Input: year(string) \n",
    "    Check birthyear is before 70s or after 70s\n",
    "    '''\n",
    "    if string == 'BirthYear_Unknown':\n",
    "        return string\n",
    "    return 'Before 70s' if int(string) <= 1970 else 'After 70s'\n",
    "\n",
    "\n",
    "# For director and writer BirthYear, transform into categorical variable\n",
    "df['director_birthYear'] = df['director_birthYear'].apply(\n",
    "    lambda x: x if x != '\\\\N' else 'BirthYear_Unknown')\n",
    "df['director_birthYear'] = df['director_birthYear'].fillna('BirthYear_Unknown')\n",
    "df['director_birthYear'] = df['director_birthYear'].apply(year_check)\n",
    "director_birthYear_feature = df['director_birthYear'].str.get_dummies(\n",
    ").add_prefix('Director_').reset_index(drop=True)\n",
    "\n",
    "df['writer_birthYear'] = df['writer_birthYear'].apply(lambda x: x if x != '\\\\N'\n",
    "                                                      else 'BirthYear_Unknown')\n",
    "df['writer_birthYear'] = df['writer_birthYear'].fillna('BirthYear_Unknown')\n",
    "df['writer_birthYear'] = df['writer_birthYear'].apply(year_check)\n",
    "writer_birthYear_feature = df['writer_birthYear'].str.get_dummies().add_prefix(\n",
    "    'Writer_').reset_index(drop=True)\n",
    "\n",
    "# Columns 'primaryProfession' transform into dummies\n",
    "director_profession_feature = df['director_primaryProfession'].str.get_dummies(\n",
    "    ',').reset_index(drop=True)\n",
    "writer_profession_feature = df['writer_primaryProfession'].str.get_dummies(\n",
    "    ',').reset_index(drop=True)"
   ]
  },
  {
   "cell_type": "markdown",
   "metadata": {},
   "source": [
    "In the code above, I set birthYear into categorical data with 1970 as a midpoint, which is also the approximate median of all available birthYear features. And for region, the threshold 30 is getting from including half of the region count."
   ]
  },
  {
   "cell_type": "code",
   "execution_count": 20,
   "metadata": {
    "ExecuteTime": {
     "end_time": "2019-07-11T05:19:18.928896Z",
     "start_time": "2019-07-11T05:19:17.349017Z"
    }
   },
   "outputs": [],
   "source": [
    "# remove attribute because it contains too many empty\n",
    "drop_columns = ['titleType','primaryTitle', 'originalTitle','titleId','ordering',\n",
    "                'genres', 'title','types','endYear','ordering','region','language'\n",
    "                ,'attributes', 'directors', 'writers',\n",
    "       'director_nconst', 'director_primaryName', 'director_birthYear',\n",
    "       'director_deathYear', 'director_primaryProfession',\n",
    "       'director_knownForTitles', 'writer_nconst', 'writer_primaryName',\n",
    "       'writer_birthYear', 'writer_deathYear', 'writer_primaryProfession',\n",
    "       'writer_knownForTitles']\n",
    "# remove columns\n",
    "df = df.drop(columns = drop_columns)\n",
    "\n",
    "# merge feature data with df\n",
    "df = df.reset_index(drop=True)\n",
    "df = pd.concat([df,genres_feature,region_feature,types_feature,\n",
    "                director_birthYear_feature,writer_birthYear_feature,director_profession_feature,\n",
    "                writer_profession_feature],axis = 1)\n",
    "\n",
    "df = pd.merge(df,number_different_version, how= 'left',left_on='tconst',right_on=number_different_version.index)"
   ]
  },
  {
   "cell_type": "markdown",
   "metadata": {},
   "source": [
    "## 3. Data Standardization\n",
    "Before going into model building, we want to make sure our data is standardized so that it improves training process. Here, since most of the features are dummies. We don't need to worry too much about them. Only numeric data needs standardized in this case."
   ]
  },
  {
   "cell_type": "code",
   "execution_count": 21,
   "metadata": {
    "ExecuteTime": {
     "end_time": "2019-07-11T05:19:24.107680Z",
     "start_time": "2019-07-11T05:19:23.489040Z"
    }
   },
   "outputs": [],
   "source": [
    "# standardize\n",
    "Scaler = StandardScaler()\n",
    "df['runtimeMinutes'] = Scaler.fit_transform(df[['runtimeMinutes']].values)\n",
    "df['startYear'] = MinMaxScaler().fit_transform(df[['startYear']].values)\n",
    "df['numVotes'] = Scaler.fit_transform(df[['numVotes']].values)\n",
    "df['director_score'] = Scaler.fit_transform(df[['director_score']].values)\n",
    "df['writer_score'] = Scaler.fit_transform(df[['writer_score']].values)\n",
    "df['ordering'] = Scaler.fit_transform(df[['ordering']].values)\n",
    "\n",
    "# Selecting target and feature data\n",
    "df.index = df['tconst']\n",
    "target = df['averageRating']\n",
    "df = df.drop(columns = ['tconst','averageRating'])"
   ]
  },
  {
   "cell_type": "markdown",
   "metadata": {},
   "source": [
    "Following plot is the correlation map, from the plot, we could tell that there are several features correlated with each other. As a result, we have to remove them."
   ]
  },
  {
   "cell_type": "code",
   "execution_count": 26,
   "metadata": {
    "ExecuteTime": {
     "end_time": "2019-07-11T05:22:03.479409Z",
     "start_time": "2019-07-11T05:21:54.863417Z"
    }
   },
   "outputs": [
    {
     "data": {
      "image/png": "[encoded data removed]",
      "text/plain": [
       "<Figure size 720x576 with 2 Axes>"
      ]
     },
     "metadata": {},
     "output_type": "display_data"
    }
   ],
   "source": [
    "sns.set(rc={'figure.figsize': (10, 8)})\n",
    "corr = df.corr()\n",
    "sns.heatmap(corr, cbar=True, fmt='.2f', annot_kws={'size': 3}, square=True, cmap=\"YlGnBu\")\n",
    "plt.title('Correlation Heatmap')\n",
    "plt.tight_layout()\n",
    "plt.show()"
   ]
  },
  {
   "cell_type": "markdown",
   "metadata": {},
   "source": [
    "The following two functions provides the tool to find the high absolute correlated pair of features. And remove one feature of each pair from our data "
   ]
  },
  {
   "cell_type": "code",
   "execution_count": 27,
   "metadata": {
    "ExecuteTime": {
     "end_time": "2019-07-11T05:22:30.046873Z",
     "start_time": "2019-07-11T05:22:22.014338Z"
    }
   },
   "outputs": [
    {
     "name": "stdout",
     "output_type": "stream",
     "text": [
      "Top Absolute Correlations\n",
      "isOriginalTitle             original                      1.000000\n",
      "Director_BirthYear_Unknown  Writer_BirthYear_Unknown      1.000000\n",
      "Director_After 70s          Writer_After 70s              1.000000\n",
      "Director_Before 70s         Writer_Before 70s             1.000000\n",
      "director_score              writer_score                  1.000000\n",
      "isAdult                     Adult                         0.955626\n",
      "isOriginalTitle             region_Other Regions          0.934954\n",
      "region_Other Regions        original                      0.934954\n",
      "Director_Before 70s         Director_BirthYear_Unknown    0.876154\n",
      "                            Writer_BirthYear_Unknown      0.876154\n",
      "dtype: float64\n"
     ]
    }
   ],
   "source": [
    "def get_redundant_pairs(df):\n",
    "    '''Get diagonal and lower triangular pairs of correlation matrix'''\n",
    "    pairs_to_drop = set()\n",
    "    cols = df.columns\n",
    "    for i in range(0, df.shape[1]):\n",
    "        for j in range(0, i+1):\n",
    "            pairs_to_drop.add((cols[i], cols[j]))\n",
    "    return pairs_to_drop\n",
    "def get_top_abs_correlations(df, n=5):\n",
    "    ''' return top correlated pair'''\n",
    "    au_corr = df.corr().abs().unstack()\n",
    "    labels_to_drop = get_redundant_pairs(df)\n",
    "    au_corr = au_corr.drop(labels=labels_to_drop).sort_values(ascending=False)\n",
    "    return au_corr[0:n]\n",
    "\n",
    "print(\"Top Absolute Correlations\")\n",
    "print(get_top_abs_correlations(df, 10))"
   ]
  },
  {
   "cell_type": "code",
   "execution_count": 29,
   "metadata": {
    "ExecuteTime": {
     "end_time": "2019-07-11T05:23:36.086492Z",
     "start_time": "2019-07-11T05:23:35.985802Z"
    }
   },
   "outputs": [],
   "source": [
    "# remove the high correlated columns\n",
    "high_correlated_pair = [\n",
    "    'Writer_After 70s', 'Writer_BirthYear_Unknown', 'Writer_Before 70s',\n",
    "    'writer_score', 'original', 'Adult', 'isOriginalTitle'\n",
    "]\n",
    "df = df.drop(columns=high_correlated_pair)"
   ]
  },
  {
   "cell_type": "markdown",
   "metadata": {},
   "source": [
    "## 4. Create training set and test set\n",
    "In this section, I split the data into training and test set and implement a SVD to add some features with the original data."
   ]
  },
  {
   "cell_type": "code",
   "execution_count": 30,
   "metadata": {
    "ExecuteTime": {
     "end_time": "2019-07-11T05:23:43.051734Z",
     "start_time": "2019-07-11T05:23:42.581995Z"
    }
   },
   "outputs": [],
   "source": [
    "X_train, X_test, y_train, y_test = train_test_split(df.values,\n",
    "                                                    target.values,\n",
    "                                                    test_size=0.2,\n",
    "                                                    random_state=20)"
   ]
  },
  {
   "cell_type": "markdown",
   "metadata": {},
   "source": [
    "#### Using SVD to generate new features"
   ]
  },
  {
   "cell_type": "code",
   "execution_count": 31,
   "metadata": {
    "ExecuteTime": {
     "end_time": "2019-07-11T05:23:48.415883Z",
     "start_time": "2019-07-11T05:23:44.535515Z"
    }
   },
   "outputs": [
    {
     "name": "stdout",
     "output_type": "stream",
     "text": [
      "Cumulative explained variation: 98.52%\n"
     ]
    }
   ],
   "source": [
    "K = 75 # choose 75 for getting enough explained variation\n",
    "svd = TruncatedSVD(n_components = K,random_state=0)\n",
    "SVD_x = svd.fit(X_train)\n",
    "perc=SVD_x.explained_variance_ratio_.cumsum()[K-1]\n",
    "print(\"Cumulative explained variation: \" + \"{:.2%}\".format(perc))\n",
    "X_train =np.concatenate((X_train,SVD_x.transform(X_train)),axis=1)\n",
    "X_test = np.concatenate((X_test,SVD_x.transform(X_test)),axis=1)"
   ]
  },
  {
   "cell_type": "markdown",
   "metadata": {},
   "source": [
    "## 5. Model Building"
   ]
  },
  {
   "cell_type": "markdown",
   "metadata": {},
   "source": [
    "### ElasticNet Regression\n",
    "- For this regression/prediction task, I choose using MSE as loss metric.\n",
    "\n",
    "- First model I use is ElasticNet regression. I use a Kfold CV checking MSE for a set of alphas to find the optimal hyperparameter. And with the best alpha, we run on both training and testing.\n",
    "\n",
    "- $MSE_{training} = 1.15993$  and  $MSE_{test} = 1.16147$"
   ]
  },
  {
   "cell_type": "code",
   "execution_count": 32,
   "metadata": {
    "ExecuteTime": {
     "end_time": "2019-07-11T05:24:34.212828Z",
     "start_time": "2019-07-11T05:23:49.865418Z"
    }
   },
   "outputs": [
    {
     "data": {
      "text/plain": [
       "Text(0, 0.5, 'mse')"
      ]
     },
     "execution_count": 32,
     "metadata": {},
     "output_type": "execute_result"
    },
    {
     "data": {
      "image/png": "[encoded data removed]",
      "text/plain": [
       "<Figure size 720x576 with 1 Axes>"
      ]
     },
     "metadata": {},
     "output_type": "display_data"
    }
   ],
   "source": [
    "def k_mse_cv(model, n_folds=5):\n",
    "    kf = KFold(n_folds, shuffle=True, random_state=42).get_n_splits(X_train)\n",
    "    mse = -(cross_val_score(\n",
    "        model, X_train, y_train, scoring=\"neg_mean_squared_error\", cv=kf))\n",
    "    return (mse)\n",
    "\n",
    "\n",
    "model_elasticNet = ElasticNet(l1_ratio=0.5)\n",
    "# Tunning hyperparameter\n",
    "alphas = [0.01, 0.05, 0.5, 1, 10, 50]\n",
    "cv_elasticNet = [k_mse_cv(ElasticNet(alpha=alpha)).mean() for alpha in alphas]\n",
    "cv_elasticNet = pd.Series(cv_elasticNet, index=alphas)\n",
    "\n",
    "# plot CV\n",
    "cv_elasticNet.plot(title=\"ElasticNet Validation Curve\")\n",
    "plt.xlabel(\"alpha\")\n",
    "plt.ylabel(\"mse\")"
   ]
  },
  {
   "cell_type": "code",
   "execution_count": 41,
   "metadata": {
    "ExecuteTime": {
     "end_time": "2019-07-11T07:01:13.743747Z",
     "start_time": "2019-07-11T07:00:21.167518Z"
    }
   },
   "outputs": [
    {
     "name": "stdout",
     "output_type": "stream",
     "text": [
      "ElasticNet Kfold CV MSE: 1.15993 (+/- 0.02)\n",
      "ElasticNet test MSE:1.16147\n"
     ]
    }
   ],
   "source": [
    "# using elastic net with the tunned hyperparater and calculate MSE with test set\n",
    "elastic = ElasticNet(alpha=0.01, random_state=42)\n",
    "mse = -(cross_val_score(elastic, X_train, y_train, scoring=\"neg_mean_squared_error\", cv = 10))\n",
    "print(\"ElasticNet Kfold CV MSE: %0.5f (+/- %0.2f)\" % (mse.mean(), mse.std() * 2))\n",
    "elastic.fit(X_train, y_train)\n",
    "\n",
    "print('ElasticNet test MSE:%0.5f' % (mean_squared_error(y_test,elastic.predict(X_test))))"
   ]
  },
  {
   "cell_type": "markdown",
   "metadata": {},
   "source": [
    "### Random Forest Regressor\n",
    "- Second model I use is Random Forest Regressor with a gridsearch to find the optimal set of hyperparameters.\n",
    "- With the best set of hyperparameter, $MSE_{training} = 0.97662$  and  $MSE_{test} = 0.97671$.\n",
    "\n",
    "- It performs slightly better than the ElasticNet Regressor.\n"
   ]
  },
  {
   "cell_type": "code",
   "execution_count": 37,
   "metadata": {
    "ExecuteTime": {
     "end_time": "2019-07-11T06:37:37.413334Z",
     "start_time": "2019-07-11T05:31:21.100254Z"
    }
   },
   "outputs": [
    {
     "name": "stdout",
     "output_type": "stream",
     "text": [
      "Fitting 5 folds for each of 16 candidates, totalling 80 fits\n"
     ]
    },
    {
     "name": "stderr",
     "output_type": "stream",
     "text": [
      "[Parallel(n_jobs=1)]: Using backend SequentialBackend with 1 concurrent workers.\n",
      "[Parallel(n_jobs=1)]: Done  80 out of  80 | elapsed: 62.3min finished\n"
     ]
    },
    {
     "name": "stdout",
     "output_type": "stream",
     "text": [
      "{'max_depth': 5, 'min_samples_leaf': 5, 'min_samples_split': 2, 'n_estimators': 25, 'oob_score': True}\n",
      "0.9766227805199476\n",
      "0.9767128004460867\n"
     ]
    }
   ],
   "source": [
    "# Random Forest regressor\n",
    "# GridSearch to find the best hyperparameter\n",
    "rf = RandomForestRegressor()\n",
    "parameters = {'n_estimators': [10,25], \n",
    "              'max_depth': [2, 5], \n",
    "              'min_samples_split': [2, 5],\n",
    "              'min_samples_leaf': [1, 5],\n",
    "              'oob_score': [True],\n",
    "             }\n",
    "grid_rf = GridSearchCV(estimator= rf,param_grid=parameters,cv=5, verbose =1,scoring=\"neg_mean_squared_error\")\n",
    "grid_rf = grid_rf.fit(X_train,y_train)\n",
    "rf = grid_rf.best_estimator_\n",
    "# Best Model: {'max_depth': 8, 'min_samples_leaf': 5, 'min_samples_split': 2, 'n_estimators': 25, 'oob_score': True}\n",
    "\n",
    "print(grid_rf.best_params_ )\n",
    "print(-(grid_rf.best_score_))\n",
    "rf.fit(X_train,y_train)\n",
    "\n",
    "print(mean_squared_error(y_test,rf.predict(X_test)))"
   ]
  },
  {
   "cell_type": "markdown",
   "metadata": {
    "ExecuteTime": {
     "end_time": "2019-07-10T19:38:43.819671Z",
     "start_time": "2019-07-10T19:34:59.072Z"
    }
   },
   "source": [
    "#### Random Forest Feature Importance"
   ]
  },
  {
   "cell_type": "markdown",
   "metadata": {},
   "source": [
    "From the random forest feature importance, the top 3 features:\n",
    " - director_score\n",
    " - Documentary\n",
    " - Horror\n",
    " \n",
    "They are reasonable for the following reason. First, director_score represents the average rating of a director's work, which might infer the rating of his other works. The second important feature and third one belong to genres, which is already shown in the plot from EDA section."
   ]
  },
  {
   "cell_type": "code",
   "execution_count": 62,
   "metadata": {
    "ExecuteTime": {
     "end_time": "2019-07-11T08:29:23.652605Z",
     "start_time": "2019-07-11T08:29:23.633656Z"
    }
   },
   "outputs": [
    {
     "name": "stdout",
     "output_type": "stream",
     "text": [
      "Features sorted by their score:\n",
      "[(0.6887, 'director_score'), (0.045, 'Documentary'), (0.0107, 'Horror'), (0.0088, 'Drama'), (0.0049, 'Director_Before 70s'), (0.0039, 'startYear'), (0.0026, 'numVotes'), (0.0004, 'Director_BirthYear_Unknown')]\n"
     ]
    }
   ],
   "source": [
    "names = df.columns\n",
    "print (\"Features sorted by their score:\")\n",
    "print (sorted(zip(map(lambda x: round(x, 4), rf.feature_importances_), names), \n",
    "             reverse=True)[:8])"
   ]
  },
  {
   "attachments": {},
   "cell_type": "markdown",
   "metadata": {},
   "source": [
    "## 6. Conclusion\n",
    "- In this project, I use IMDb data set to predict movie rating with two machine learning model, Elastic Net and Random Forest. From the result performance, Random Forest beats Elastic Net regression. But for aspect of running time, random forest takes much longer than Elastic Net.\n",
    "\n",
    "- The Director past/relevant works’ rating is a strong indicator of movie rating, shown by the random forest regressor.\n",
    "\n",
    "- Similar to director, actor/actress relevant score should also be relevent and important. However, due to the memory limit, I have to skip the cast information.\n"
   ]
  },
  {
   "cell_type": "markdown",
   "metadata": {},
   "source": [
    "## 7. Additional Research\n",
    "- Beside ElasticNet regression and random forest regressor, I try the data with a simple neural network with 3 layer using normal initializer. However, after running several settings, I find that it overfits really fast even with the simple network. \n",
    "\n",
    "- And if I use a network with more than 3 layers, it will end with overfitting even with dropout. My understanding with this result is that our dataset is simple in term of numeric values and structure.\n",
    "\n",
    "- As a result, I end up with a neural network model performs better as random forest in test set; however, it did worse in training. From the result, there is still space to improve. Need more time tunning the parameter.\n",
    "\n",
    "- $MSE_{training} = 1.0172 $  and  $MSE_{test} = 0.9519$\n"
   ]
  },
  {
   "cell_type": "code",
   "execution_count": 58,
   "metadata": {
    "ExecuteTime": {
     "end_time": "2019-07-11T07:25:56.934502Z",
     "start_time": "2019-07-11T07:25:56.871698Z"
    }
   },
   "outputs": [
    {
     "name": "stdout",
     "output_type": "stream",
     "text": [
      "_________________________________________________________________\n",
      "Layer (type)                 Output Shape              Param #   \n",
      "=================================================================\n",
      "dense_21 (Dense)             (None, 32)                7296      \n",
      "_________________________________________________________________\n",
      "dropout_13 (Dropout)         (None, 32)                0         \n",
      "_________________________________________________________________\n",
      "dense_22 (Dense)             (None, 32)                1056      \n",
      "_________________________________________________________________\n",
      "dropout_14 (Dropout)         (None, 32)                0         \n",
      "_________________________________________________________________\n",
      "dense_23 (Dense)             (None, 1)                 33        \n",
      "=================================================================\n",
      "Total params: 8,385\n",
      "Trainable params: 8,385\n",
      "Non-trainable params: 0\n",
      "_________________________________________________________________\n"
     ]
    }
   ],
   "source": [
    "import keras.backend as K\n",
    "from keras.models import Sequential\n",
    "from keras.layers import Dense, Dropout\n",
    "from keras.callbacks import EarlyStopping, ReduceLROnPlateau, ModelCheckpoint\n",
    "from keras.initializers import RandomNormal\n",
    "from keras.optimizers import adam, Adadelta\n",
    "from keras import regularizers\n",
    "from keras.layers.normalization import BatchNormalization\n",
    "\n",
    "n_dim = 32\n",
    "nn = Sequential()\n",
    "nn.add(\n",
    "    Dense(n_dim,\n",
    "          input_dim=X_train.shape[1],\n",
    "          activation='relu',\n",
    "          kernel_initializer=RandomNormal(mean=0.0, stddev=1 / n_dim,\n",
    "                                          seed=42)))\n",
    "nn.add(Dropout(rate=0.3))\n",
    "nn.add(\n",
    "    Dense(n_dim,\n",
    "          activation='relu',\n",
    "          kernel_initializer=RandomNormal(mean=0.0, stddev=2 / n_dim,\n",
    "                                          seed=42)))\n",
    "nn.add(Dropout(rate=0.3))\n",
    "#nn.add(Dense(n_dim,  activation='relu', kernel_initializer='normal'))\n",
    "#nn.add(Dense(n_dim,  activation='relu', kernel_initializer='normal'))\n",
    "nn.add(Dense(1, kernel_initializer='normal'))\n",
    "opt = adam(lr=0.01)\n",
    "nn.compile(loss='MSE', optimizer=opt)\n",
    "nn.summary()"
   ]
  },
  {
   "cell_type": "code",
   "execution_count": 60,
   "metadata": {
    "ExecuteTime": {
     "end_time": "2019-07-11T07:36:04.285694Z",
     "start_time": "2019-07-11T07:29:59.063522Z"
    }
   },
   "outputs": [
    {
     "name": "stdout",
     "output_type": "stream",
     "text": [
      "Train on 177472 samples, validate on 44368 samples\n",
      "Epoch 1/100\n",
      "177472/177472 [==============================] - 3s 20us/step - loss: 1.0386 - val_loss: 0.9814\n",
      "Epoch 2/100\n",
      "177472/177472 [==============================] - 3s 19us/step - loss: 1.0390 - val_loss: 0.9782\n",
      "Epoch 3/100\n",
      "177472/177472 [==============================] - 3s 19us/step - loss: 1.0369 - val_loss: 0.9784\n",
      "Epoch 4/100\n",
      "177472/177472 [==============================] - 3s 18us/step - loss: 1.0375 - val_loss: 0.9968\n",
      "Epoch 5/100\n",
      "177472/177472 [==============================] - 3s 19us/step - loss: 1.0360 - val_loss: 0.9740\n",
      "Epoch 6/100\n",
      "177472/177472 [==============================] - 3s 19us/step - loss: 1.0389 - val_loss: 0.9583\n",
      "Epoch 7/100\n",
      "177472/177472 [==============================] - 3s 19us/step - loss: 1.0368 - val_loss: 0.9519\n",
      "Epoch 8/100\n",
      "177472/177472 [==============================] - 3s 19us/step - loss: 1.0379 - val_loss: 0.9553\n",
      "Epoch 9/100\n",
      "177472/177472 [==============================] - 4s 20us/step - loss: 1.0359 - val_loss: 0.9753\n",
      "Epoch 10/100\n",
      "177472/177472 [==============================] - 4s 21us/step - loss: 1.0379 - val_loss: 0.9710\n",
      "Epoch 11/100\n",
      "177472/177472 [==============================] - 3s 19us/step - loss: 1.0408 - val_loss: 0.9590\n",
      "Epoch 12/100\n",
      "177472/177472 [==============================] - 3s 19us/step - loss: 1.0391 - val_loss: 0.9759\n",
      "Epoch 13/100\n",
      "177472/177472 [==============================] - 4s 20us/step - loss: 1.0389 - val_loss: 0.9659\n",
      "Epoch 14/100\n",
      "177472/177472 [==============================] - 4s 21us/step - loss: 1.0390 - val_loss: 0.9734\n",
      "Epoch 15/100\n",
      "177472/177472 [==============================] - 4s 21us/step - loss: 1.0361 - val_loss: 0.9566\n",
      "Epoch 16/100\n",
      "177472/177472 [==============================] - 4s 21us/step - loss: 1.0387 - val_loss: 0.9737\n",
      "Epoch 17/100\n",
      "177472/177472 [==============================] - 4s 21us/step - loss: 1.0373 - val_loss: 0.9669\n",
      "\n",
      "Epoch 00017: ReduceLROnPlateau reducing learning rate to 0.0012499999720603228.\n",
      "Epoch 18/100\n",
      "177472/177472 [==============================] - 4s 21us/step - loss: 1.0296 - val_loss: 0.9603\n",
      "Epoch 19/100\n",
      "177472/177472 [==============================] - 4s 21us/step - loss: 1.0320 - val_loss: 0.9556\n",
      "Epoch 20/100\n",
      "177472/177472 [==============================] - 4s 21us/step - loss: 1.0306 - val_loss: 0.9791\n",
      "Epoch 21/100\n",
      "177472/177472 [==============================] - 4s 21us/step - loss: 1.0297 - val_loss: 0.9539\n",
      "Epoch 22/100\n",
      "177472/177472 [==============================] - 4s 21us/step - loss: 1.0293 - val_loss: 0.9571\n",
      "Epoch 23/100\n",
      "177472/177472 [==============================] - 4s 21us/step - loss: 1.0284 - val_loss: 0.9528\n",
      "Epoch 24/100\n",
      "177472/177472 [==============================] - 4s 21us/step - loss: 1.0277 - val_loss: 0.9543\n",
      "Epoch 25/100\n",
      "177472/177472 [==============================] - 4s 23us/step - loss: 1.0285 - val_loss: 0.9747\n",
      "Epoch 26/100\n",
      "177472/177472 [==============================] - 4s 22us/step - loss: 1.0296 - val_loss: 0.9616\n",
      "Epoch 27/100\n",
      "177472/177472 [==============================] - 4s 22us/step - loss: 1.0303 - val_loss: 0.9548\n",
      "\n",
      "Epoch 00027: ReduceLROnPlateau reducing learning rate to 0.0006249999860301614.\n",
      "Epoch 28/100\n",
      "177472/177472 [==============================] - 4s 21us/step - loss: 1.0263 - val_loss: 0.9507\n",
      "Epoch 29/100\n",
      "177472/177472 [==============================] - 4s 21us/step - loss: 1.0274 - val_loss: 0.9524\n",
      "Epoch 30/100\n",
      "177472/177472 [==============================] - 4s 21us/step - loss: 1.0266 - val_loss: 0.9502\n",
      "Epoch 31/100\n",
      "177472/177472 [==============================] - 4s 22us/step - loss: 1.0239 - val_loss: 0.9544\n",
      "Epoch 32/100\n",
      "177472/177472 [==============================] - 4s 22us/step - loss: 1.0207 - val_loss: 0.9472\n",
      "Epoch 33/100\n",
      "177472/177472 [==============================] - 4s 21us/step - loss: 1.0249 - val_loss: 0.9517\n",
      "Epoch 34/100\n",
      "177472/177472 [==============================] - 4s 21us/step - loss: 1.0257 - val_loss: 0.9531\n",
      "Epoch 35/100\n",
      "177472/177472 [==============================] - 4s 21us/step - loss: 1.0247 - val_loss: 0.9520\n",
      "Epoch 36/100\n",
      "177472/177472 [==============================] - 4s 21us/step - loss: 1.0252 - val_loss: 0.9565\n",
      "Epoch 37/100\n",
      "177472/177472 [==============================] - 4s 21us/step - loss: 1.0247 - val_loss: 0.9594\n",
      "Epoch 38/100\n",
      "177472/177472 [==============================] - 4s 20us/step - loss: 1.0231 - val_loss: 0.9504\n",
      "Epoch 39/100\n",
      "177472/177472 [==============================] - 4s 20us/step - loss: 1.0273 - val_loss: 0.9570\n",
      "Epoch 40/100\n",
      "177472/177472 [==============================] - 4s 20us/step - loss: 1.0227 - val_loss: 0.9531\n",
      "Epoch 41/100\n",
      "177472/177472 [==============================] - 4s 20us/step - loss: 1.0219 - val_loss: 0.9503\n",
      "Epoch 42/100\n",
      "177472/177472 [==============================] - 4s 20us/step - loss: 1.0245 - val_loss: 0.9514\n",
      "\n",
      "Epoch 00042: ReduceLROnPlateau reducing learning rate to 0.0003124999930150807.\n",
      "Epoch 43/100\n",
      "177472/177472 [==============================] - 4s 20us/step - loss: 1.0251 - val_loss: 0.9577\n",
      "Epoch 44/100\n",
      "177472/177472 [==============================] - 4s 20us/step - loss: 1.0247 - val_loss: 0.9566\n",
      "Epoch 45/100\n",
      "177472/177472 [==============================] - 4s 20us/step - loss: 1.0224 - val_loss: 0.9494\n",
      "Epoch 46/100\n",
      "177472/177472 [==============================] - 4s 20us/step - loss: 1.0224 - val_loss: 0.9518\n",
      "Epoch 47/100\n",
      "177472/177472 [==============================] - 4s 20us/step - loss: 1.0229 - val_loss: 0.9535\n",
      "Epoch 48/100\n",
      "177472/177472 [==============================] - 4s 20us/step - loss: 1.0224 - val_loss: 0.9484\n",
      "Epoch 49/100\n",
      "177472/177472 [==============================] - 4s 20us/step - loss: 1.0225 - val_loss: 0.9493\n",
      "Epoch 50/100\n",
      "177472/177472 [==============================] - 4s 21us/step - loss: 1.0182 - val_loss: 0.9503\n",
      "Epoch 51/100\n",
      "177472/177472 [==============================] - 4s 20us/step - loss: 1.0192 - val_loss: 0.9534\n",
      "Epoch 52/100\n",
      "177472/177472 [==============================] - 4s 21us/step - loss: 1.0215 - val_loss: 0.9545\n",
      "\n",
      "Epoch 00052: ReduceLROnPlateau reducing learning rate to 0.00015624999650754035.\n",
      "Epoch 53/100\n",
      "177472/177472 [==============================] - 4s 20us/step - loss: 1.0205 - val_loss: 0.9525\n",
      "Epoch 54/100\n",
      "177472/177472 [==============================] - 4s 21us/step - loss: 1.0211 - val_loss: 0.9503\n",
      "Epoch 55/100\n",
      "177472/177472 [==============================] - 4s 20us/step - loss: 1.0206 - val_loss: 0.9508\n",
      "Epoch 56/100\n",
      "177472/177472 [==============================] - 4s 20us/step - loss: 1.0212 - val_loss: 0.9497\n",
      "Epoch 57/100\n",
      "177472/177472 [==============================] - 4s 21us/step - loss: 1.0236 - val_loss: 0.9531\n",
      "Epoch 58/100\n",
      "177472/177472 [==============================] - 4s 21us/step - loss: 1.0227 - val_loss: 0.9468\n",
      "Epoch 59/100\n",
      "177472/177472 [==============================] - 4s 20us/step - loss: 1.0194 - val_loss: 0.9519\n",
      "Epoch 60/100\n",
      "177472/177472 [==============================] - 4s 20us/step - loss: 1.0208 - val_loss: 0.9524\n",
      "Epoch 61/100\n",
      "177472/177472 [==============================] - 4s 20us/step - loss: 1.0202 - val_loss: 0.9540\n",
      "Epoch 62/100\n",
      "177472/177472 [==============================] - 4s 20us/step - loss: 1.0209 - val_loss: 0.9468\n",
      "Epoch 63/100\n",
      "177472/177472 [==============================] - 4s 21us/step - loss: 1.0175 - val_loss: 0.9519\n",
      "Epoch 64/100\n",
      "177472/177472 [==============================] - 4s 21us/step - loss: 1.0243 - val_loss: 0.9548\n",
      "Epoch 65/100\n",
      "177472/177472 [==============================] - 4s 20us/step - loss: 1.0214 - val_loss: 0.9522\n",
      "Epoch 66/100\n",
      "177472/177472 [==============================] - 4s 21us/step - loss: 1.0171 - val_loss: 0.9493\n",
      "Epoch 67/100\n",
      "177472/177472 [==============================] - 4s 21us/step - loss: 1.0168 - val_loss: 0.9498\n",
      "Epoch 68/100\n",
      "177472/177472 [==============================] - 4s 20us/step - loss: 1.0211 - val_loss: 0.9478\n",
      "\n",
      "Epoch 00068: ReduceLROnPlateau reducing learning rate to 7.812499825377017e-05.\n",
      "Epoch 69/100\n",
      "177472/177472 [==============================] - 4s 20us/step - loss: 1.0200 - val_loss: 0.9495\n",
      "Epoch 70/100\n",
      "177472/177472 [==============================] - 4s 20us/step - loss: 1.0215 - val_loss: 0.9502\n",
      "Epoch 71/100\n",
      "177472/177472 [==============================] - 4s 21us/step - loss: 1.0166 - val_loss: 0.9509\n",
      "Epoch 72/100\n"
     ]
    },
    {
     "name": "stdout",
     "output_type": "stream",
     "text": [
      "177472/177472 [==============================] - 4s 23us/step - loss: 1.0249 - val_loss: 0.9491\n",
      "Epoch 73/100\n",
      "177472/177472 [==============================] - 4s 22us/step - loss: 1.0192 - val_loss: 0.9517\n",
      "Epoch 74/100\n",
      "177472/177472 [==============================] - 4s 21us/step - loss: 1.0191 - val_loss: 0.9479\n",
      "Epoch 75/100\n",
      "177472/177472 [==============================] - 4s 21us/step - loss: 1.0197 - val_loss: 0.9504\n",
      "Epoch 76/100\n",
      "177472/177472 [==============================] - 4s 21us/step - loss: 1.0175 - val_loss: 0.9494\n",
      "Epoch 77/100\n",
      "177472/177472 [==============================] - 4s 21us/step - loss: 1.0225 - val_loss: 0.9495\n",
      "Epoch 78/100\n",
      "177472/177472 [==============================] - 4s 21us/step - loss: 1.0236 - val_loss: 0.9493\n",
      "\n",
      "Epoch 00078: ReduceLROnPlateau reducing learning rate to 3.9062499126885086e-05.\n",
      "Epoch 79/100\n",
      "177472/177472 [==============================] - 4s 21us/step - loss: 1.0209 - val_loss: 0.9515\n",
      "Epoch 80/100\n",
      "177472/177472 [==============================] - 4s 21us/step - loss: 1.0181 - val_loss: 0.9507\n",
      "Epoch 81/100\n",
      "177472/177472 [==============================] - 4s 21us/step - loss: 1.0183 - val_loss: 0.9503\n",
      "Epoch 82/100\n",
      "177472/177472 [==============================] - 4s 20us/step - loss: 1.0191 - val_loss: 0.9518\n",
      "Epoch 83/100\n",
      "177472/177472 [==============================] - 4s 20us/step - loss: 1.0196 - val_loss: 0.9533\n",
      "Epoch 84/100\n",
      "177472/177472 [==============================] - 4s 20us/step - loss: 1.0233 - val_loss: 0.9511\n",
      "Epoch 85/100\n",
      "177472/177472 [==============================] - 4s 20us/step - loss: 1.0196 - val_loss: 0.9513\n",
      "Epoch 86/100\n",
      "177472/177472 [==============================] - 4s 20us/step - loss: 1.0227 - val_loss: 0.9513\n",
      "Epoch 87/100\n",
      "177472/177472 [==============================] - 4s 21us/step - loss: 1.0214 - val_loss: 0.9508\n",
      "Epoch 88/100\n",
      "177472/177472 [==============================] - 4s 21us/step - loss: 1.0192 - val_loss: 0.9520\n",
      "\n",
      "Epoch 00088: ReduceLROnPlateau reducing learning rate to 1.9531249563442543e-05.\n",
      "Epoch 89/100\n",
      "177472/177472 [==============================] - 4s 21us/step - loss: 1.0198 - val_loss: 0.9517\n",
      "Epoch 90/100\n",
      "177472/177472 [==============================] - 4s 20us/step - loss: 1.0165 - val_loss: 0.9513\n",
      "Epoch 91/100\n",
      "177472/177472 [==============================] - 4s 20us/step - loss: 1.0200 - val_loss: 0.9522\n",
      "Epoch 92/100\n",
      "177472/177472 [==============================] - 4s 20us/step - loss: 1.0211 - val_loss: 0.9514\n",
      "Epoch 93/100\n",
      "177472/177472 [==============================] - 4s 21us/step - loss: 1.0161 - val_loss: 0.9512\n",
      "Epoch 94/100\n",
      "177472/177472 [==============================] - 4s 21us/step - loss: 1.0190 - val_loss: 0.9531\n",
      "Epoch 95/100\n",
      "177472/177472 [==============================] - 4s 21us/step - loss: 1.0223 - val_loss: 0.9533\n",
      "Epoch 96/100\n",
      "177472/177472 [==============================] - 4s 21us/step - loss: 1.0209 - val_loss: 0.9513\n",
      "Epoch 97/100\n",
      "177472/177472 [==============================] - 4s 21us/step - loss: 1.0178 - val_loss: 0.9523\n",
      "Epoch 98/100\n",
      "177472/177472 [==============================] - 4s 20us/step - loss: 1.0208 - val_loss: 0.9519\n",
      "\n",
      "Epoch 00098: ReduceLROnPlateau reducing learning rate to 9.765624781721272e-06.\n",
      "Epoch 99/100\n",
      "177472/177472 [==============================] - 4s 22us/step - loss: 1.0202 - val_loss: 0.9518\n",
      "Epoch 100/100\n",
      "177472/177472 [==============================] - 4s 22us/step - loss: 1.0172 - val_loss: 0.9519\n"
     ]
    }
   ],
   "source": [
    "earlystop = EarlyStopping(monitor='val_loss', patience=10,verbose=1, mode='auto')\n",
    "ReduceLR = ReduceLROnPlateau(monitor='val_loss',factor=0.5,verbose=1,patience=5,min_lr=1e-6)\n",
    "callbacks_list = [ReduceLR]\n",
    "history = nn.fit(X_train,y_train, epochs=100, batch_size=128,verbose=1,validation_data=(X_test, y_test),\n",
    "          shuffle=True,callbacks=callbacks_list)\n"
   ]
  },
  {
   "cell_type": "code",
   "execution_count": 61,
   "metadata": {
    "ExecuteTime": {
     "end_time": "2019-07-11T07:36:17.285700Z",
     "start_time": "2019-07-11T07:36:16.499825Z"
    }
   },
   "outputs": [
    {
     "name": "stdout",
     "output_type": "stream",
     "text": [
      "Neural Network out of sample test MSE: \n",
      "0.951893042788908\n"
     ]
    }
   ],
   "source": [
    "print('Neural Network out of sample test MSE: ')\n",
    "print(mean_squared_error(y_test,nn.predict(X_test)))"
   ]
  }
 ],
 "metadata": {
  "kernelspec": {
   "display_name": "Python 3",
   "language": "python",
   "name": "python3"
  },
  "language_info": {
   "codemirror_mode": {
    "name": "ipython",
    "version": 3
   },
   "file_extension": ".py",
   "mimetype": "text/x-python",
   "name": "python",
   "nbconvert_exporter": "python",
   "pygments_lexer": "ipython3",
   "version": "3.7.3"
  },
  "notify_time": "30",
  "varInspector": {
   "cols": {
    "lenName": 16,
    "lenType": 16,
    "lenVar": 40
   },
   "kernels_config": {
    "python": {
     "delete_cmd_postfix": "",
     "delete_cmd_prefix": "del ",
     "library": "var_list.py",
     "varRefreshCmd": "print(var_dic_list())"
    },
    "r": {
     "delete_cmd_postfix": ") ",
     "delete_cmd_prefix": "rm(",
     "library": "var_list.r",
     "varRefreshCmd": "cat(var_dic_list()) "
    }
   },
   "oldHeight": 122,
   "position": {
    "height": "610px",
    "left": "1382px",
    "right": "20px",
    "top": "111px",
    "width": "280px"
   },
   "types_to_exclude": [
    "module",
    "function",
    "builtin_function_or_method",
    "instance",
    "_Feature"
   ],
   "varInspector_section_display": "block",
   "window_display": false
  }
 },
 "nbformat": 4,
 "nbformat_minor": 2
}
